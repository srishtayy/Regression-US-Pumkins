{
  "nbformat": 4,
  "nbformat_minor": 0,
  "metadata": {
    "colab": {
      "provenance": []
    },
    "kernelspec": {
      "name": "python3",
      "display_name": "Python 3"
    },
    "language_info": {
      "name": "python"
    }
  },
  "cells": [
    {
      "cell_type": "code",
      "execution_count": null,
      "metadata": {
        "id": "xBTsMDccqbbc"
      },
      "outputs": [],
      "source": [
        "import matplotlib.pyplot as plt\n",
        "import pandas as pd\n",
        "import numpy as np\n",
        "from sklearn import linear_model,model_selection\n",
        "from sklearn import datasets\n",
        "from sklearn.metrics import accuracy_score, classification_report, confusion_matrix\n",
        "#model_selection is used for splitting data into training and test sets."
      ]
    },
    {
      "cell_type": "markdown",
      "source": [
        "#US-PUMPKINS DATASET"
      ],
      "metadata": {
        "id": "l4HvccQ-7-jI"
      }
    },
    {
      "cell_type": "code",
      "source": [
        "data = pd.read_csv('https://raw.githubusercontent.com/microsoft/ML-For-Beginners/main/2-Regression/data/US-pumpkins.csv')\n",
        "pumpkins=data\n",
        "data.head()"
      ],
      "metadata": {
        "colab": {
          "base_uri": "https://localhost:8080/",
          "height": 401
        },
        "id": "Uso0ngrRyI7t",
        "outputId": "3e9eda9a-b4d6-45cf-e000-6ea8abfa0660"
      },
      "execution_count": null,
      "outputs": [
        {
          "output_type": "execute_result",
          "data": {
            "text/plain": [
              "   City Name Type       Package      Variety Sub Variety  Grade     Date  \\\n",
              "0  BALTIMORE  NaN  24 inch bins          NaN         NaN    NaN  4/29/17   \n",
              "1  BALTIMORE  NaN  24 inch bins          NaN         NaN    NaN   5/6/17   \n",
              "2  BALTIMORE  NaN  24 inch bins  HOWDEN TYPE         NaN    NaN  9/24/16   \n",
              "3  BALTIMORE  NaN  24 inch bins  HOWDEN TYPE         NaN    NaN  9/24/16   \n",
              "4  BALTIMORE  NaN  24 inch bins  HOWDEN TYPE         NaN    NaN  11/5/16   \n",
              "\n",
              "   Low Price  High Price  Mostly Low  ...  Unit of Sale Quality Condition  \\\n",
              "0      270.0       280.0       270.0  ...           NaN     NaN       NaN   \n",
              "1      270.0       280.0       270.0  ...           NaN     NaN       NaN   \n",
              "2      160.0       160.0       160.0  ...           NaN     NaN       NaN   \n",
              "3      160.0       160.0       160.0  ...           NaN     NaN       NaN   \n",
              "4       90.0       100.0        90.0  ...           NaN     NaN       NaN   \n",
              "\n",
              "  Appearance Storage  Crop Repack  Trans Mode  Unnamed: 24  Unnamed: 25  \n",
              "0        NaN     NaN   NaN      E         NaN          NaN          NaN  \n",
              "1        NaN     NaN   NaN      E         NaN          NaN          NaN  \n",
              "2        NaN     NaN   NaN      N         NaN          NaN          NaN  \n",
              "3        NaN     NaN   NaN      N         NaN          NaN          NaN  \n",
              "4        NaN     NaN   NaN      N         NaN          NaN          NaN  \n",
              "\n",
              "[5 rows x 26 columns]"
            ],
            "text/html": [
              "\n",
              "  <div id=\"df-6c04ae93-1e39-4734-ae32-3c7e8a4f8173\">\n",
              "    <div class=\"colab-df-container\">\n",
              "      <div>\n",
              "<style scoped>\n",
              "    .dataframe tbody tr th:only-of-type {\n",
              "        vertical-align: middle;\n",
              "    }\n",
              "\n",
              "    .dataframe tbody tr th {\n",
              "        vertical-align: top;\n",
              "    }\n",
              "\n",
              "    .dataframe thead th {\n",
              "        text-align: right;\n",
              "    }\n",
              "</style>\n",
              "<table border=\"1\" class=\"dataframe\">\n",
              "  <thead>\n",
              "    <tr style=\"text-align: right;\">\n",
              "      <th></th>\n",
              "      <th>City Name</th>\n",
              "      <th>Type</th>\n",
              "      <th>Package</th>\n",
              "      <th>Variety</th>\n",
              "      <th>Sub Variety</th>\n",
              "      <th>Grade</th>\n",
              "      <th>Date</th>\n",
              "      <th>Low Price</th>\n",
              "      <th>High Price</th>\n",
              "      <th>Mostly Low</th>\n",
              "      <th>...</th>\n",
              "      <th>Unit of Sale</th>\n",
              "      <th>Quality</th>\n",
              "      <th>Condition</th>\n",
              "      <th>Appearance</th>\n",
              "      <th>Storage</th>\n",
              "      <th>Crop</th>\n",
              "      <th>Repack</th>\n",
              "      <th>Trans Mode</th>\n",
              "      <th>Unnamed: 24</th>\n",
              "      <th>Unnamed: 25</th>\n",
              "    </tr>\n",
              "  </thead>\n",
              "  <tbody>\n",
              "    <tr>\n",
              "      <th>0</th>\n",
              "      <td>BALTIMORE</td>\n",
              "      <td>NaN</td>\n",
              "      <td>24 inch bins</td>\n",
              "      <td>NaN</td>\n",
              "      <td>NaN</td>\n",
              "      <td>NaN</td>\n",
              "      <td>4/29/17</td>\n",
              "      <td>270.0</td>\n",
              "      <td>280.0</td>\n",
              "      <td>270.0</td>\n",
              "      <td>...</td>\n",
              "      <td>NaN</td>\n",
              "      <td>NaN</td>\n",
              "      <td>NaN</td>\n",
              "      <td>NaN</td>\n",
              "      <td>NaN</td>\n",
              "      <td>NaN</td>\n",
              "      <td>E</td>\n",
              "      <td>NaN</td>\n",
              "      <td>NaN</td>\n",
              "      <td>NaN</td>\n",
              "    </tr>\n",
              "    <tr>\n",
              "      <th>1</th>\n",
              "      <td>BALTIMORE</td>\n",
              "      <td>NaN</td>\n",
              "      <td>24 inch bins</td>\n",
              "      <td>NaN</td>\n",
              "      <td>NaN</td>\n",
              "      <td>NaN</td>\n",
              "      <td>5/6/17</td>\n",
              "      <td>270.0</td>\n",
              "      <td>280.0</td>\n",
              "      <td>270.0</td>\n",
              "      <td>...</td>\n",
              "      <td>NaN</td>\n",
              "      <td>NaN</td>\n",
              "      <td>NaN</td>\n",
              "      <td>NaN</td>\n",
              "      <td>NaN</td>\n",
              "      <td>NaN</td>\n",
              "      <td>E</td>\n",
              "      <td>NaN</td>\n",
              "      <td>NaN</td>\n",
              "      <td>NaN</td>\n",
              "    </tr>\n",
              "    <tr>\n",
              "      <th>2</th>\n",
              "      <td>BALTIMORE</td>\n",
              "      <td>NaN</td>\n",
              "      <td>24 inch bins</td>\n",
              "      <td>HOWDEN TYPE</td>\n",
              "      <td>NaN</td>\n",
              "      <td>NaN</td>\n",
              "      <td>9/24/16</td>\n",
              "      <td>160.0</td>\n",
              "      <td>160.0</td>\n",
              "      <td>160.0</td>\n",
              "      <td>...</td>\n",
              "      <td>NaN</td>\n",
              "      <td>NaN</td>\n",
              "      <td>NaN</td>\n",
              "      <td>NaN</td>\n",
              "      <td>NaN</td>\n",
              "      <td>NaN</td>\n",
              "      <td>N</td>\n",
              "      <td>NaN</td>\n",
              "      <td>NaN</td>\n",
              "      <td>NaN</td>\n",
              "    </tr>\n",
              "    <tr>\n",
              "      <th>3</th>\n",
              "      <td>BALTIMORE</td>\n",
              "      <td>NaN</td>\n",
              "      <td>24 inch bins</td>\n",
              "      <td>HOWDEN TYPE</td>\n",
              "      <td>NaN</td>\n",
              "      <td>NaN</td>\n",
              "      <td>9/24/16</td>\n",
              "      <td>160.0</td>\n",
              "      <td>160.0</td>\n",
              "      <td>160.0</td>\n",
              "      <td>...</td>\n",
              "      <td>NaN</td>\n",
              "      <td>NaN</td>\n",
              "      <td>NaN</td>\n",
              "      <td>NaN</td>\n",
              "      <td>NaN</td>\n",
              "      <td>NaN</td>\n",
              "      <td>N</td>\n",
              "      <td>NaN</td>\n",
              "      <td>NaN</td>\n",
              "      <td>NaN</td>\n",
              "    </tr>\n",
              "    <tr>\n",
              "      <th>4</th>\n",
              "      <td>BALTIMORE</td>\n",
              "      <td>NaN</td>\n",
              "      <td>24 inch bins</td>\n",
              "      <td>HOWDEN TYPE</td>\n",
              "      <td>NaN</td>\n",
              "      <td>NaN</td>\n",
              "      <td>11/5/16</td>\n",
              "      <td>90.0</td>\n",
              "      <td>100.0</td>\n",
              "      <td>90.0</td>\n",
              "      <td>...</td>\n",
              "      <td>NaN</td>\n",
              "      <td>NaN</td>\n",
              "      <td>NaN</td>\n",
              "      <td>NaN</td>\n",
              "      <td>NaN</td>\n",
              "      <td>NaN</td>\n",
              "      <td>N</td>\n",
              "      <td>NaN</td>\n",
              "      <td>NaN</td>\n",
              "      <td>NaN</td>\n",
              "    </tr>\n",
              "  </tbody>\n",
              "</table>\n",
              "<p>5 rows × 26 columns</p>\n",
              "</div>\n",
              "      <button class=\"colab-df-convert\" onclick=\"convertToInteractive('df-6c04ae93-1e39-4734-ae32-3c7e8a4f8173')\"\n",
              "              title=\"Convert this dataframe to an interactive table.\"\n",
              "              style=\"display:none;\">\n",
              "        \n",
              "  <svg xmlns=\"http://www.w3.org/2000/svg\" height=\"24px\"viewBox=\"0 0 24 24\"\n",
              "       width=\"24px\">\n",
              "    <path d=\"M0 0h24v24H0V0z\" fill=\"none\"/>\n",
              "    <path d=\"M18.56 5.44l.94 2.06.94-2.06 2.06-.94-2.06-.94-.94-2.06-.94 2.06-2.06.94zm-11 1L8.5 8.5l.94-2.06 2.06-.94-2.06-.94L8.5 2.5l-.94 2.06-2.06.94zm10 10l.94 2.06.94-2.06 2.06-.94-2.06-.94-.94-2.06-.94 2.06-2.06.94z\"/><path d=\"M17.41 7.96l-1.37-1.37c-.4-.4-.92-.59-1.43-.59-.52 0-1.04.2-1.43.59L10.3 9.45l-7.72 7.72c-.78.78-.78 2.05 0 2.83L4 21.41c.39.39.9.59 1.41.59.51 0 1.02-.2 1.41-.59l7.78-7.78 2.81-2.81c.8-.78.8-2.07 0-2.86zM5.41 20L4 18.59l7.72-7.72 1.47 1.35L5.41 20z\"/>\n",
              "  </svg>\n",
              "      </button>\n",
              "      \n",
              "  <style>\n",
              "    .colab-df-container {\n",
              "      display:flex;\n",
              "      flex-wrap:wrap;\n",
              "      gap: 12px;\n",
              "    }\n",
              "\n",
              "    .colab-df-convert {\n",
              "      background-color: #E8F0FE;\n",
              "      border: none;\n",
              "      border-radius: 50%;\n",
              "      cursor: pointer;\n",
              "      display: none;\n",
              "      fill: #1967D2;\n",
              "      height: 32px;\n",
              "      padding: 0 0 0 0;\n",
              "      width: 32px;\n",
              "    }\n",
              "\n",
              "    .colab-df-convert:hover {\n",
              "      background-color: #E2EBFA;\n",
              "      box-shadow: 0px 1px 2px rgba(60, 64, 67, 0.3), 0px 1px 3px 1px rgba(60, 64, 67, 0.15);\n",
              "      fill: #174EA6;\n",
              "    }\n",
              "\n",
              "    [theme=dark] .colab-df-convert {\n",
              "      background-color: #3B4455;\n",
              "      fill: #D2E3FC;\n",
              "    }\n",
              "\n",
              "    [theme=dark] .colab-df-convert:hover {\n",
              "      background-color: #434B5C;\n",
              "      box-shadow: 0px 1px 3px 1px rgba(0, 0, 0, 0.15);\n",
              "      filter: drop-shadow(0px 1px 2px rgba(0, 0, 0, 0.3));\n",
              "      fill: #FFFFFF;\n",
              "    }\n",
              "  </style>\n",
              "\n",
              "      <script>\n",
              "        const buttonEl =\n",
              "          document.querySelector('#df-6c04ae93-1e39-4734-ae32-3c7e8a4f8173 button.colab-df-convert');\n",
              "        buttonEl.style.display =\n",
              "          google.colab.kernel.accessAllowed ? 'block' : 'none';\n",
              "\n",
              "        async function convertToInteractive(key) {\n",
              "          const element = document.querySelector('#df-6c04ae93-1e39-4734-ae32-3c7e8a4f8173');\n",
              "          const dataTable =\n",
              "            await google.colab.kernel.invokeFunction('convertToInteractive',\n",
              "                                                     [key], {});\n",
              "          if (!dataTable) return;\n",
              "\n",
              "          const docLinkHtml = 'Like what you see? Visit the ' +\n",
              "            '<a target=\"_blank\" href=https://colab.research.google.com/notebooks/data_table.ipynb>data table notebook</a>'\n",
              "            + ' to learn more about interactive tables.';\n",
              "          element.innerHTML = '';\n",
              "          dataTable['output_type'] = 'display_data';\n",
              "          await google.colab.output.renderOutput(dataTable, element);\n",
              "          const docLink = document.createElement('div');\n",
              "          docLink.innerHTML = docLinkHtml;\n",
              "          element.appendChild(docLink);\n",
              "        }\n",
              "      </script>\n",
              "    </div>\n",
              "  </div>\n",
              "  "
            ]
          },
          "metadata": {},
          "execution_count": 25
        }
      ]
    },
    {
      "cell_type": "code",
      "source": [
        "data.isnull().sum() #check for null values"
      ],
      "metadata": {
        "colab": {
          "base_uri": "https://localhost:8080/"
        },
        "id": "q25Gb77XzcVs",
        "outputId": "017b0980-ccbc-4e22-b67a-092b3a8d2eaa"
      },
      "execution_count": null,
      "outputs": [
        {
          "output_type": "execute_result",
          "data": {
            "text/plain": [
              "City Name             0\n",
              "Type               1712\n",
              "Package               0\n",
              "Variety               5\n",
              "Sub Variety        1461\n",
              "Grade              1757\n",
              "Date                  0\n",
              "Low Price             0\n",
              "High Price            0\n",
              "Mostly Low          103\n",
              "Mostly High         103\n",
              "Origin                3\n",
              "Origin District    1626\n",
              "Item Size           279\n",
              "Color               616\n",
              "Environment        1757\n",
              "Unit of Sale       1595\n",
              "Quality            1757\n",
              "Condition          1757\n",
              "Appearance         1757\n",
              "Storage            1757\n",
              "Crop               1757\n",
              "Repack                0\n",
              "Trans Mode         1757\n",
              "Unnamed: 24        1757\n",
              "Unnamed: 25        1654\n",
              "dtype: int64"
            ]
          },
          "metadata": {},
          "execution_count": 3
        }
      ]
    },
    {
      "cell_type": "code",
      "source": [
        "cols=['Package','Low Price','High Price','Date'] #iloc is pos base loc is label based\n",
        "data=data.loc[:,cols]"
      ],
      "metadata": {
        "id": "4xGRxW5X4jjO"
      },
      "execution_count": null,
      "outputs": []
    },
    {
      "cell_type": "code",
      "source": [
        "price = (data['Low Price'] + data['High Price']) / 2"
      ],
      "metadata": {
        "id": "QwNhgpoc5LLs"
      },
      "execution_count": null,
      "outputs": []
    },
    {
      "cell_type": "code",
      "source": [
        "month = pd.DatetimeIndex(data['Date']).month"
      ],
      "metadata": {
        "id": "cu8i-3iz5W_s"
      },
      "execution_count": null,
      "outputs": []
    },
    {
      "cell_type": "code",
      "source": [
        "new_data=pd.DataFrame({'Month': month, 'Package': data['Package'], 'Low Price': data['Low Price'],'High Price': data['High Price'], 'Price': price})"
      ],
      "metadata": {
        "id": "iRNgtw5x5rXm"
      },
      "execution_count": null,
      "outputs": []
    },
    {
      "cell_type": "code",
      "source": [
        "print(new_data)"
      ],
      "metadata": {
        "colab": {
          "base_uri": "https://localhost:8080/"
        },
        "id": "rNO9L3Oc5ydi",
        "outputId": "37e2f537-991f-475d-b4fe-0b16aa5bd55d"
      },
      "execution_count": null,
      "outputs": [
        {
          "output_type": "stream",
          "name": "stdout",
          "text": [
            "      Month        Package  Low Price  High Price   Price\n",
            "0         4   24 inch bins     270.00      280.00  275.00\n",
            "1         5   24 inch bins     270.00      280.00  275.00\n",
            "2         9   24 inch bins     160.00      160.00  160.00\n",
            "3         9   24 inch bins     160.00      160.00  160.00\n",
            "4        11   24 inch bins      90.00      100.00   95.00\n",
            "...     ...            ...        ...         ...     ...\n",
            "1752      9  22 lb cartons      14.75       14.75   14.75\n",
            "1753      9   36 inch bins     275.00      275.00  275.00\n",
            "1754      9   36 inch bins     275.00      275.00  275.00\n",
            "1755      9   36 inch bins     275.00      275.00  275.00\n",
            "1756      9   36 inch bins     275.00      275.00  275.00\n",
            "\n",
            "[1757 rows x 5 columns]\n"
          ]
        }
      ]
    },
    {
      "cell_type": "markdown",
      "source": [
        "We can see that package has different units so we select units containing bushel"
      ],
      "metadata": {
        "id": "7W0gHoJH59-r"
      }
    },
    {
      "cell_type": "code",
      "source": [
        "new_data= new_data[new_data['Package'].str.contains('bushel',case=True,regex=True)]"
      ],
      "metadata": {
        "id": "5Yyqro1358_6"
      },
      "execution_count": null,
      "outputs": []
    },
    {
      "cell_type": "code",
      "source": [
        "print(new_data)"
      ],
      "metadata": {
        "colab": {
          "base_uri": "https://localhost:8080/"
        },
        "id": "-f1Oq56l64HO",
        "outputId": "43f46154-df9c-442f-ef7e-cd1ad5e6b16c"
      },
      "execution_count": null,
      "outputs": [
        {
          "output_type": "stream",
          "name": "stdout",
          "text": [
            "      Month               Package  Low Price  High Price   Price\n",
            "70        9  1 1/9 bushel cartons      15.00        15.0  15.000\n",
            "71        9  1 1/9 bushel cartons      18.00        18.0  18.000\n",
            "72       10  1 1/9 bushel cartons      18.00        18.0  18.000\n",
            "73       10  1 1/9 bushel cartons      17.00        17.0  17.000\n",
            "74       10  1 1/9 bushel cartons      15.00        15.0  15.000\n",
            "...     ...                   ...        ...         ...     ...\n",
            "1738      9    1/2 bushel cartons      15.00        15.0  15.000\n",
            "1739      9    1/2 bushel cartons      13.75        15.0  14.375\n",
            "1740      9    1/2 bushel cartons      10.75        15.0  12.875\n",
            "1741      9    1/2 bushel cartons      12.00        12.0  12.000\n",
            "1742      9    1/2 bushel cartons      12.00        12.0  12.000\n",
            "\n",
            "[415 rows x 5 columns]\n"
          ]
        }
      ]
    },
    {
      "cell_type": "markdown",
      "source": [
        "We see there are 1/2,1/9 bushels so we must normalise the price to show it per bushel"
      ],
      "metadata": {
        "id": "u5RsOlNu7AzB"
      }
    },
    {
      "cell_type": "code",
      "source": [
        "new_data.loc[new_data['Package'].str.contains('1 1/9'), 'Price'] = price/(1 + 1/9)\n",
        "\n",
        "new_data.loc[new_data['Package'].str.contains('1/2'), 'Price'] = price/(1/2)"
      ],
      "metadata": {
        "id": "xP2-Kxc26_pl"
      },
      "execution_count": null,
      "outputs": []
    },
    {
      "cell_type": "code",
      "source": [
        "import matplotlib.pyplot as plt"
      ],
      "metadata": {
        "id": "JIOQKE9I71Hp"
      },
      "execution_count": null,
      "outputs": []
    },
    {
      "cell_type": "code",
      "source": [
        "price = new_data.Price\n",
        "month = new_data.Month\n",
        "plt.scatter(price, month)\n",
        "plt.show()"
      ],
      "metadata": {
        "colab": {
          "base_uri": "https://localhost:8080/",
          "height": 430
        },
        "id": "BOrni5Kq8Dnf",
        "outputId": "6cd66aec-9a10-457b-bf95-afc5b00d18e5"
      },
      "execution_count": null,
      "outputs": [
        {
          "output_type": "display_data",
          "data": {
            "text/plain": [
              "<Figure size 640x480 with 1 Axes>"
            ],
            "image/png": "[encoded data removed]"
          },
          "metadata": {}
        }
      ]
    },
    {
      "cell_type": "code",
      "source": [
        "new_data.groupby(['Month'])['Price'].mean().plot(kind='bar')\n",
        "plt.ylabel(\"Pumpkin Price\")"
      ],
      "metadata": {
        "colab": {
          "base_uri": "https://localhost:8080/",
          "height": 470
        },
        "id": "FVkYfcMiC2Xm",
        "outputId": "cf4f6dc1-cb69-4467-cc4a-d8a1808d5c16"
      },
      "execution_count": null,
      "outputs": [
        {
          "output_type": "execute_result",
          "data": {
            "text/plain": [
              "Text(0, 0.5, 'Pumpkin Price')"
            ]
          },
          "metadata": {},
          "execution_count": 14
        },
        {
          "output_type": "display_data",
          "data": {
            "text/plain": [
              "<Figure size 640x480 with 1 Axes>"
            ],
            "image/png": "[encoded data removed]"
          },
          "metadata": {}
        }
      ]
    },
    {
      "cell_type": "markdown",
      "source": [
        "#LOGISTIC REGRESSION\n",
        "\n",
        "\n",
        "\n"
      ],
      "metadata": {
        "id": "fVxgm47eUGgi"
      }
    },
    {
      "cell_type": "markdown",
      "source": [
        "There are other types of logistic regression, including multinomial and ordinal:\n",
        "\n",
        "Multinomial, which involves having more than one category - \"Orange, White, and Striped\".\n",
        "Ordinal, which involves ordered categories, useful if we wanted to order our outcomes logically, like our pumpkins that are ordered by a finite number of sizes (mini,sm,med,lg,xl,xxl).\n"
      ],
      "metadata": {
        "id": "skSSzoh3UWuW"
      }
    },
    {
      "cell_type": "code",
      "source": [
        "columns_to_select = ['City Name','Package','Variety', 'Origin','Item Size', 'Color']\n",
        "pumpkins1 = pumpkins.loc[:, columns_to_select]\n",
        "print(pumpkins1)"
      ],
      "metadata": {
        "colab": {
          "base_uri": "https://localhost:8080/"
        },
        "id": "RnsSwfw3NoKY",
        "outputId": "bffdb71c-6e90-4037-d1d0-7fdb35ba1983"
      },
      "execution_count": null,
      "outputs": [
        {
          "output_type": "stream",
          "name": "stdout",
          "text": [
            "      City Name        Package      Variety    Origin Item Size   Color\n",
            "0     BALTIMORE   24 inch bins          NaN  MARYLAND       lge     NaN\n",
            "1     BALTIMORE   24 inch bins          NaN  MARYLAND       lge     NaN\n",
            "2     BALTIMORE   24 inch bins  HOWDEN TYPE  DELAWARE       med  ORANGE\n",
            "3     BALTIMORE   24 inch bins  HOWDEN TYPE  VIRGINIA       med  ORANGE\n",
            "4     BALTIMORE   24 inch bins  HOWDEN TYPE  MARYLAND       lge  ORANGE\n",
            "...         ...            ...          ...       ...       ...     ...\n",
            "1752  ST. LOUIS  22 lb cartons    MINIATURE  ILLINOIS       NaN   WHITE\n",
            "1753  ST. LOUIS   36 inch bins    MINIATURE  MICHIGAN       sml     NaN\n",
            "1754  ST. LOUIS   36 inch bins    MINIATURE  MICHIGAN       sml     NaN\n",
            "1755  ST. LOUIS   36 inch bins    MINIATURE  MICHIGAN       sml     NaN\n",
            "1756  ST. LOUIS   36 inch bins    MINIATURE  MICHIGAN       sml     NaN\n",
            "\n",
            "[1757 rows x 6 columns]\n"
          ]
        }
      ]
    },
    {
      "cell_type": "code",
      "source": [
        "pumpkins1.dropna(inplace=True) #dataframe with naN emtries is dropped"
      ],
      "metadata": {
        "id": "Riq5md_aVU1g"
      },
      "execution_count": null,
      "outputs": []
    },
    {
      "cell_type": "code",
      "source": [
        "pumpkins1.info"
      ],
      "metadata": {
        "colab": {
          "base_uri": "https://localhost:8080/"
        },
        "id": "cothC5GfVcn2",
        "outputId": "50677912-7421-4b35-ed2c-75e08fcfa60a"
      },
      "execution_count": null,
      "outputs": [
        {
          "output_type": "execute_result",
          "data": {
            "text/plain": [
              "<bound method DataFrame.info of       City Name       Package            Variety    Origin Item Size   Color\n",
              "2     BALTIMORE  24 inch bins        HOWDEN TYPE  DELAWARE       med  ORANGE\n",
              "3     BALTIMORE  24 inch bins        HOWDEN TYPE  VIRGINIA       med  ORANGE\n",
              "4     BALTIMORE  24 inch bins        HOWDEN TYPE  MARYLAND       lge  ORANGE\n",
              "5     BALTIMORE  24 inch bins        HOWDEN TYPE  MARYLAND       lge  ORANGE\n",
              "6     BALTIMORE  36 inch bins        HOWDEN TYPE  MARYLAND       med  ORANGE\n",
              "...         ...           ...                ...       ...       ...     ...\n",
              "1694  ST. LOUIS  24 inch bins  HOWDEN WHITE TYPE  ILLINOIS      xlge   WHITE\n",
              "1695  ST. LOUIS  24 inch bins  HOWDEN WHITE TYPE  ILLINOIS      xlge   WHITE\n",
              "1696  ST. LOUIS  24 inch bins  HOWDEN WHITE TYPE  ILLINOIS      xlge   WHITE\n",
              "1697  ST. LOUIS  24 inch bins  HOWDEN WHITE TYPE  ILLINOIS      xlge   WHITE\n",
              "1698  ST. LOUIS  24 inch bins  HOWDEN WHITE TYPE  ILLINOIS      xlge   WHITE\n",
              "\n",
              "[991 rows x 6 columns]>"
            ]
          },
          "metadata": {},
          "execution_count": 33
        }
      ]
    },
    {
      "cell_type": "code",
      "source": [
        "import seaborn as sns\n",
        "# Colors to use for the different levels of the hue variable. \n",
        "# Should be something that can be interpreted by color_palette(), or a dictionary mapping hue levels to matplotlib colors.\n",
        "palette = {\n",
        "'ORANGE': 'orange',\n",
        "'WHITE': 'pink',\n",
        "}\n",
        "\n",
        "sns.catplot(\n",
        "data=pumpkins1, y=\"Variety\", hue=\"Color\", kind=\"count\",\n",
        "palette=palette, \n",
        ")"
      ],
      "metadata": {
        "colab": {
          "base_uri": "https://localhost:8080/",
          "height": 523
        },
        "id": "zDebfLsvWZ0f",
        "outputId": "3fbc1770-b923-4825-cf60-cc40db155dfe"
      },
      "execution_count": 36,
      "outputs": [
        {
          "output_type": "execute_result",
          "data": {
            "text/plain": [
              "<seaborn.axisgrid.FacetGrid at 0x7fa237696910>"
            ]
          },
          "metadata": {},
          "execution_count": 36
        },
        {
          "output_type": "display_data",
          "data": {
            "text/plain": [
              "<Figure size 609.375x500 with 1 Axes>"
            ],
            "image/png": "[encoded data removed]"
          },
          "metadata": {}
        }
      ]
    },
    {
      "cell_type": "markdown",
      "source": [
        "Our pumpkins dataset contains string values for all its columns. Working with categorical data is intuitive for humans but not for machines. Machine learning algorithms work well with numbers. There's why encoding is a very important step in the data pre-processing phase, since it enables to turn categorical data into numerical data, without losing any information. A good encoding leads to build a good model.\n"
      ],
      "metadata": {
        "id": "gHSn8cFTaxLb"
      }
    },
    {
      "cell_type": "markdown",
      "source": [
        "\n",
        "For feature encoding there are two main types of encoders:\n",
        "\n",
        "Ordinal encoder: it suits well for ordinal variables, which are categorical variables where their data follows a logical ordering, like the Item Size column in our dataset. It creates a mapping such that each category is represented by a number, which is the order of the category in the column."
      ],
      "metadata": {
        "id": "8c2lLycMb2_i"
      }
    },
    {
      "cell_type": "markdown",
      "source": [
        "#DATA PREPROCESSING\n"
      ],
      "metadata": {
        "id": "eEYWqMQ8bQ9e"
      }
    },
    {
      "cell_type": "code",
      "source": [
        "from sklearn.preprocessing import OrdinalEncoder\n",
        "\n",
        "item_size_categories = [['sml', 'med', 'med-lge', 'lge', 'xlge', 'jbo', 'exjbo']]\n",
        "ordinal_features = ['Item Size']\n",
        "ordinal_encoder = OrdinalEncoder(categories=item_size_categories)\n",
        "print(pumpkins1)"
      ],
      "metadata": {
        "colab": {
          "base_uri": "https://localhost:8080/"
        },
        "id": "nm3ts67lbUww",
        "outputId": "f7f0acfd-19ad-43a7-e3d1-b5ae05062007"
      },
      "execution_count": 38,
      "outputs": [
        {
          "output_type": "stream",
          "name": "stdout",
          "text": [
            "      City Name       Package            Variety    Origin Item Size   Color\n",
            "2     BALTIMORE  24 inch bins        HOWDEN TYPE  DELAWARE       med  ORANGE\n",
            "3     BALTIMORE  24 inch bins        HOWDEN TYPE  VIRGINIA       med  ORANGE\n",
            "4     BALTIMORE  24 inch bins        HOWDEN TYPE  MARYLAND       lge  ORANGE\n",
            "5     BALTIMORE  24 inch bins        HOWDEN TYPE  MARYLAND       lge  ORANGE\n",
            "6     BALTIMORE  36 inch bins        HOWDEN TYPE  MARYLAND       med  ORANGE\n",
            "...         ...           ...                ...       ...       ...     ...\n",
            "1694  ST. LOUIS  24 inch bins  HOWDEN WHITE TYPE  ILLINOIS      xlge   WHITE\n",
            "1695  ST. LOUIS  24 inch bins  HOWDEN WHITE TYPE  ILLINOIS      xlge   WHITE\n",
            "1696  ST. LOUIS  24 inch bins  HOWDEN WHITE TYPE  ILLINOIS      xlge   WHITE\n",
            "1697  ST. LOUIS  24 inch bins  HOWDEN WHITE TYPE  ILLINOIS      xlge   WHITE\n",
            "1698  ST. LOUIS  24 inch bins  HOWDEN WHITE TYPE  ILLINOIS      xlge   WHITE\n",
            "\n",
            "[991 rows x 6 columns]\n"
          ]
        }
      ]
    },
    {
      "cell_type": "markdown",
      "source": [
        "Categorical encoder: it suits well for nominal variables, which are categorical variables where their data does not follow a logical ordering, like all the features different from Item Size in our dataset. It is a one-hot encoding, which means that each category is represented by a binary column: the encoded variable is equal to 1 if the pumpkin belongs to that Variety and 0 otherwise."
      ],
      "metadata": {
        "id": "EUinY2_mbx5n"
      }
    },
    {
      "cell_type": "code",
      "source": [
        "from sklearn.preprocessing import OneHotEncoder\n",
        "\n",
        "categorical_features = ['City Name', 'Package', 'Variety', 'Origin']\n",
        "categorical_encoder = OneHotEncoder(sparse_output=False)"
      ],
      "metadata": {
        "id": "TbPY3bIKbzaF"
      },
      "execution_count": 39,
      "outputs": []
    },
    {
      "cell_type": "markdown",
      "source": [
        "Then, ColumnTransformer is used to combine multiple encoders into a single step and apply them to the appropriate columns."
      ],
      "metadata": {
        "id": "YFfzIjHicU-K"
      }
    },
    {
      "cell_type": "code",
      "source": [
        "from sklearn.compose import ColumnTransformer\n",
        "    \n",
        "ct = ColumnTransformer(transformers=[\n",
        "        ('ord', ordinal_encoder, ordinal_features),\n",
        "        ('cat', categorical_encoder, categorical_features)\n",
        "        ])\n",
        "    \n",
        "ct.set_output(transform='pandas')\n",
        "encoded_features = ct.fit_transform(pumpkins1)"
      ],
      "metadata": {
        "id": "Kf3q6aaVcVih"
      },
      "execution_count": 43,
      "outputs": []
    },
    {
      "cell_type": "code",
      "source": [
        "print(encoded_features)"
      ],
      "metadata": {
        "colab": {
          "base_uri": "https://localhost:8080/"
        },
        "id": "6x4hf0L3cpIT",
        "outputId": "a4a5f439-25fd-44c1-d688-de137b2616e8"
      },
      "execution_count": 45,
      "outputs": [
        {
          "output_type": "stream",
          "name": "stdout",
          "text": [
            "      ord__Item Size  cat__City Name_ATLANTA  cat__City Name_BALTIMORE  \\\n",
            "2                1.0                     0.0                       1.0   \n",
            "3                1.0                     0.0                       1.0   \n",
            "4                3.0                     0.0                       1.0   \n",
            "5                3.0                     0.0                       1.0   \n",
            "6                1.0                     0.0                       1.0   \n",
            "...              ...                     ...                       ...   \n",
            "1694             4.0                     0.0                       0.0   \n",
            "1695             4.0                     0.0                       0.0   \n",
            "1696             4.0                     0.0                       0.0   \n",
            "1697             4.0                     0.0                       0.0   \n",
            "1698             4.0                     0.0                       0.0   \n",
            "\n",
            "      cat__City Name_BOSTON  cat__City Name_CHICAGO  cat__City Name_COLUMBIA  \\\n",
            "2                       0.0                     0.0                      0.0   \n",
            "3                       0.0                     0.0                      0.0   \n",
            "4                       0.0                     0.0                      0.0   \n",
            "5                       0.0                     0.0                      0.0   \n",
            "6                       0.0                     0.0                      0.0   \n",
            "...                     ...                     ...                      ...   \n",
            "1694                    0.0                     0.0                      0.0   \n",
            "1695                    0.0                     0.0                      0.0   \n",
            "1696                    0.0                     0.0                      0.0   \n",
            "1697                    0.0                     0.0                      0.0   \n",
            "1698                    0.0                     0.0                      0.0   \n",
            "\n",
            "      cat__City Name_DALLAS  cat__City Name_DETROIT  \\\n",
            "2                       0.0                     0.0   \n",
            "3                       0.0                     0.0   \n",
            "4                       0.0                     0.0   \n",
            "5                       0.0                     0.0   \n",
            "6                       0.0                     0.0   \n",
            "...                     ...                     ...   \n",
            "1694                    0.0                     0.0   \n",
            "1695                    0.0                     0.0   \n",
            "1696                    0.0                     0.0   \n",
            "1697                    0.0                     0.0   \n",
            "1698                    0.0                     0.0   \n",
            "\n",
            "      cat__City Name_LOS ANGELES  cat__City Name_MIAMI  ...  \\\n",
            "2                            0.0                   0.0  ...   \n",
            "3                            0.0                   0.0  ...   \n",
            "4                            0.0                   0.0  ...   \n",
            "5                            0.0                   0.0  ...   \n",
            "6                            0.0                   0.0  ...   \n",
            "...                          ...                   ...  ...   \n",
            "1694                         0.0                   0.0  ...   \n",
            "1695                         0.0                   0.0  ...   \n",
            "1696                         0.0                   0.0  ...   \n",
            "1697                         0.0                   0.0  ...   \n",
            "1698                         0.0                   0.0  ...   \n",
            "\n",
            "      cat__Origin_MICHIGAN  cat__Origin_NEW JERSEY  cat__Origin_NEW YORK  \\\n",
            "2                      0.0                     0.0                   0.0   \n",
            "3                      0.0                     0.0                   0.0   \n",
            "4                      0.0                     0.0                   0.0   \n",
            "5                      0.0                     0.0                   0.0   \n",
            "6                      0.0                     0.0                   0.0   \n",
            "...                    ...                     ...                   ...   \n",
            "1694                   0.0                     0.0                   0.0   \n",
            "1695                   0.0                     0.0                   0.0   \n",
            "1696                   0.0                     0.0                   0.0   \n",
            "1697                   0.0                     0.0                   0.0   \n",
            "1698                   0.0                     0.0                   0.0   \n",
            "\n",
            "      cat__Origin_NORTH CAROLINA  cat__Origin_OHIO  cat__Origin_PENNSYLVANIA  \\\n",
            "2                            0.0               0.0                       0.0   \n",
            "3                            0.0               0.0                       0.0   \n",
            "4                            0.0               0.0                       0.0   \n",
            "5                            0.0               0.0                       0.0   \n",
            "6                            0.0               0.0                       0.0   \n",
            "...                          ...               ...                       ...   \n",
            "1694                         0.0               0.0                       0.0   \n",
            "1695                         0.0               0.0                       0.0   \n",
            "1696                         0.0               0.0                       0.0   \n",
            "1697                         0.0               0.0                       0.0   \n",
            "1698                         0.0               0.0                       0.0   \n",
            "\n",
            "      cat__Origin_TENNESSEE  cat__Origin_TEXAS  cat__Origin_VERMONT  \\\n",
            "2                       0.0                0.0                  0.0   \n",
            "3                       0.0                0.0                  0.0   \n",
            "4                       0.0                0.0                  0.0   \n",
            "5                       0.0                0.0                  0.0   \n",
            "6                       0.0                0.0                  0.0   \n",
            "...                     ...                ...                  ...   \n",
            "1694                    0.0                0.0                  0.0   \n",
            "1695                    0.0                0.0                  0.0   \n",
            "1696                    0.0                0.0                  0.0   \n",
            "1697                    0.0                0.0                  0.0   \n",
            "1698                    0.0                0.0                  0.0   \n",
            "\n",
            "      cat__Origin_VIRGINIA  \n",
            "2                      0.0  \n",
            "3                      1.0  \n",
            "4                      0.0  \n",
            "5                      0.0  \n",
            "6                      0.0  \n",
            "...                    ...  \n",
            "1694                   0.0  \n",
            "1695                   0.0  \n",
            "1696                   0.0  \n",
            "1697                   0.0  \n",
            "1698                   0.0  \n",
            "\n",
            "[991 rows x 48 columns]\n"
          ]
        }
      ]
    },
    {
      "cell_type": "markdown",
      "source": [
        "On the other hand, to encode the label, we use the scikit-learn LabelEncoder class, which is a utility class to help normalize labels such that they contain only values between 0 and n_classes-1 (here, 0 and 1)."
      ],
      "metadata": {
        "id": "n5-IT28GdIqx"
      }
    },
    {
      "cell_type": "code",
      "source": [
        "from sklearn.preprocessing import LabelEncoder\n",
        "label_encoder = LabelEncoder()\n",
        "encoded_label = label_encoder.fit_transform(pumpkins1['Color'])"
      ],
      "metadata": {
        "id": "YepSsgEXdJXF"
      },
      "execution_count": 46,
      "outputs": []
    },
    {
      "cell_type": "markdown",
      "source": [
        "Once we have encoded the features and the label, we can merge them into a new dataframe encoded_pumpkins"
      ],
      "metadata": {
        "id": "rkGHuJ8AeQbO"
      }
    },
    {
      "cell_type": "code",
      "source": [
        "encoded_pumpkins = encoded_features.assign(Color=encoded_label)"
      ],
      "metadata": {
        "id": "9dp3LDoxdS9X"
      },
      "execution_count": 47,
      "outputs": []
    },
    {
      "cell_type": "code",
      "source": [
        "print(encoded_pumpkins)"
      ],
      "metadata": {
        "colab": {
          "base_uri": "https://localhost:8080/"
        },
        "id": "5GVlF06TefF4",
        "outputId": "70b5e6ad-1ef6-4ada-fba5-e5d84c9cff5f"
      },
      "execution_count": 48,
      "outputs": [
        {
          "output_type": "stream",
          "name": "stdout",
          "text": [
            "      ord__Item Size  cat__City Name_ATLANTA  cat__City Name_BALTIMORE  \\\n",
            "2                1.0                     0.0                       1.0   \n",
            "3                1.0                     0.0                       1.0   \n",
            "4                3.0                     0.0                       1.0   \n",
            "5                3.0                     0.0                       1.0   \n",
            "6                1.0                     0.0                       1.0   \n",
            "...              ...                     ...                       ...   \n",
            "1694             4.0                     0.0                       0.0   \n",
            "1695             4.0                     0.0                       0.0   \n",
            "1696             4.0                     0.0                       0.0   \n",
            "1697             4.0                     0.0                       0.0   \n",
            "1698             4.0                     0.0                       0.0   \n",
            "\n",
            "      cat__City Name_BOSTON  cat__City Name_CHICAGO  cat__City Name_COLUMBIA  \\\n",
            "2                       0.0                     0.0                      0.0   \n",
            "3                       0.0                     0.0                      0.0   \n",
            "4                       0.0                     0.0                      0.0   \n",
            "5                       0.0                     0.0                      0.0   \n",
            "6                       0.0                     0.0                      0.0   \n",
            "...                     ...                     ...                      ...   \n",
            "1694                    0.0                     0.0                      0.0   \n",
            "1695                    0.0                     0.0                      0.0   \n",
            "1696                    0.0                     0.0                      0.0   \n",
            "1697                    0.0                     0.0                      0.0   \n",
            "1698                    0.0                     0.0                      0.0   \n",
            "\n",
            "      cat__City Name_DALLAS  cat__City Name_DETROIT  \\\n",
            "2                       0.0                     0.0   \n",
            "3                       0.0                     0.0   \n",
            "4                       0.0                     0.0   \n",
            "5                       0.0                     0.0   \n",
            "6                       0.0                     0.0   \n",
            "...                     ...                     ...   \n",
            "1694                    0.0                     0.0   \n",
            "1695                    0.0                     0.0   \n",
            "1696                    0.0                     0.0   \n",
            "1697                    0.0                     0.0   \n",
            "1698                    0.0                     0.0   \n",
            "\n",
            "      cat__City Name_LOS ANGELES  cat__City Name_MIAMI  ...  \\\n",
            "2                            0.0                   0.0  ...   \n",
            "3                            0.0                   0.0  ...   \n",
            "4                            0.0                   0.0  ...   \n",
            "5                            0.0                   0.0  ...   \n",
            "6                            0.0                   0.0  ...   \n",
            "...                          ...                   ...  ...   \n",
            "1694                         0.0                   0.0  ...   \n",
            "1695                         0.0                   0.0  ...   \n",
            "1696                         0.0                   0.0  ...   \n",
            "1697                         0.0                   0.0  ...   \n",
            "1698                         0.0                   0.0  ...   \n",
            "\n",
            "      cat__Origin_NEW JERSEY  cat__Origin_NEW YORK  \\\n",
            "2                        0.0                   0.0   \n",
            "3                        0.0                   0.0   \n",
            "4                        0.0                   0.0   \n",
            "5                        0.0                   0.0   \n",
            "6                        0.0                   0.0   \n",
            "...                      ...                   ...   \n",
            "1694                     0.0                   0.0   \n",
            "1695                     0.0                   0.0   \n",
            "1696                     0.0                   0.0   \n",
            "1697                     0.0                   0.0   \n",
            "1698                     0.0                   0.0   \n",
            "\n",
            "      cat__Origin_NORTH CAROLINA  cat__Origin_OHIO  cat__Origin_PENNSYLVANIA  \\\n",
            "2                            0.0               0.0                       0.0   \n",
            "3                            0.0               0.0                       0.0   \n",
            "4                            0.0               0.0                       0.0   \n",
            "5                            0.0               0.0                       0.0   \n",
            "6                            0.0               0.0                       0.0   \n",
            "...                          ...               ...                       ...   \n",
            "1694                         0.0               0.0                       0.0   \n",
            "1695                         0.0               0.0                       0.0   \n",
            "1696                         0.0               0.0                       0.0   \n",
            "1697                         0.0               0.0                       0.0   \n",
            "1698                         0.0               0.0                       0.0   \n",
            "\n",
            "      cat__Origin_TENNESSEE  cat__Origin_TEXAS  cat__Origin_VERMONT  \\\n",
            "2                       0.0                0.0                  0.0   \n",
            "3                       0.0                0.0                  0.0   \n",
            "4                       0.0                0.0                  0.0   \n",
            "5                       0.0                0.0                  0.0   \n",
            "6                       0.0                0.0                  0.0   \n",
            "...                     ...                ...                  ...   \n",
            "1694                    0.0                0.0                  0.0   \n",
            "1695                    0.0                0.0                  0.0   \n",
            "1696                    0.0                0.0                  0.0   \n",
            "1697                    0.0                0.0                  0.0   \n",
            "1698                    0.0                0.0                  0.0   \n",
            "\n",
            "      cat__Origin_VIRGINIA  Color  \n",
            "2                      0.0      0  \n",
            "3                      1.0      0  \n",
            "4                      0.0      0  \n",
            "5                      0.0      0  \n",
            "6                      0.0      0  \n",
            "...                    ...    ...  \n",
            "1694                   0.0      1  \n",
            "1695                   0.0      1  \n",
            "1696                   0.0      1  \n",
            "1697                   0.0      1  \n",
            "1698                   0.0      1  \n",
            "\n",
            "[991 rows x 49 columns]\n"
          ]
        }
      ]
    },
    {
      "cell_type": "code",
      "source": [
        "from sklearn.model_selection import train_test_split\n",
        "\n",
        "X = encoded_pumpkins[encoded_pumpkins.columns.difference(['Color'])]\n",
        "y = encoded_pumpkins['Color']\n",
        "X_train, X_test, y_train, y_test = train_test_split(X, y, test_size=0.2, random_state=0)"
      ],
      "metadata": {
        "id": "xpI3Hq-yei90"
      },
      "execution_count": 50,
      "outputs": []
    },
    {
      "cell_type": "code",
      "source": [
        "from sklearn.metrics import f1_score, classification_report \n",
        "from sklearn.linear_model import LogisticRegression\n",
        "\n",
        "model = LogisticRegression()\n",
        "model.fit(X_train, y_train)\n",
        "predictions = model.predict(X_test)\n",
        "\n",
        "print(classification_report(y_test, predictions))\n",
        "print('Predicted labels: ', predictions)\n",
        "print('F1-score: ', f1_score(y_test, predictions))"
      ],
      "metadata": {
        "colab": {
          "base_uri": "https://localhost:8080/"
        },
        "id": "tiKBJV7Xe0dM",
        "outputId": "0ca78692-5934-47c8-dee8-068c9b1d6ec6"
      },
      "execution_count": 51,
      "outputs": [
        {
          "output_type": "stream",
          "name": "stdout",
          "text": [
            "              precision    recall  f1-score   support\n",
            "\n",
            "           0       0.94      0.98      0.96       166\n",
            "           1       0.85      0.67      0.75        33\n",
            "\n",
            "    accuracy                           0.92       199\n",
            "   macro avg       0.89      0.82      0.85       199\n",
            "weighted avg       0.92      0.92      0.92       199\n",
            "\n",
            "Predicted labels:  [0 0 0 0 0 0 0 0 0 0 0 0 0 0 0 0 0 0 0 0 1 0 0 1 0 0 0 0 0 0 0 0 1 0 0 0 0\n",
            " 0 0 0 0 0 1 0 1 0 0 1 0 0 0 0 0 1 0 1 0 1 0 1 0 0 0 0 0 0 0 0 0 0 0 0 0 0\n",
            " 1 0 0 0 0 0 0 0 1 0 0 0 0 0 0 0 1 0 0 0 0 0 0 0 0 1 0 1 0 0 0 0 0 0 0 1 0\n",
            " 0 0 0 0 0 0 0 0 0 0 0 0 0 0 0 0 0 0 0 0 0 1 0 0 0 0 0 0 0 0 1 0 0 0 1 1 0\n",
            " 0 0 0 0 1 0 0 0 0 0 1 0 0 0 0 0 0 0 0 0 0 0 0 0 0 0 0 0 0 0 0 0 0 0 0 0 1\n",
            " 0 0 0 1 0 0 0 0 0 0 0 0 1 1]\n",
            "F1-score:  0.7457627118644068\n"
          ]
        }
      ]
    },
    {
      "cell_type": "code",
      "source": [
        "from sklearn.metrics import confusion_matrix\n",
        "confusion_matrix(y_test, predictions)"
      ],
      "metadata": {
        "colab": {
          "base_uri": "https://localhost:8080/"
        },
        "id": "1Alvb_JFfHLr",
        "outputId": "63149616-d6b5-470c-c335-0283042fc1bc"
      },
      "execution_count": 52,
      "outputs": [
        {
          "output_type": "execute_result",
          "data": {
            "text/plain": [
              "array([[162,   4],\n",
              "       [ 11,  22]])"
            ]
          },
          "metadata": {},
          "execution_count": 52
        }
      ]
    },
    {
      "cell_type": "code",
      "source": [
        "from sklearn.metrics import accuracy_score\n",
        "accuracy_score(y_test,predictions)"
      ],
      "metadata": {
        "colab": {
          "base_uri": "https://localhost:8080/"
        },
        "id": "8fMP0Xe6fVs3",
        "outputId": "c89c234e-845c-437b-d85d-2dc17327a416"
      },
      "execution_count": 55,
      "outputs": [
        {
          "output_type": "execute_result",
          "data": {
            "text/plain": [
              "0.9246231155778895"
            ]
          },
          "metadata": {},
          "execution_count": 55
        }
      ]
    }
  ]
}